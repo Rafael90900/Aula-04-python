{
  "nbformat": 4,
  "nbformat_minor": 0,
  "metadata": {
    "colab": {
      "provenance": [],
      "authorship_tag": "ABX9TyNX98e+f0GBnAxF3410KmHH",
      "include_colab_link": true
    },
    "kernelspec": {
      "name": "python3",
      "display_name": "Python 3"
    },
    "language_info": {
      "name": "python"
    }
  },
  "cells": [
    {
      "cell_type": "markdown",
      "metadata": {
        "id": "view-in-github",
        "colab_type": "text"
      },
      "source": [
        "<a href=\"https://colab.research.google.com/github/Rafael90900/Aula-04-python/blob/main/Aula04phyton.ipynb\" target=\"_parent\"><img src=\"https://colab.research.google.com/assets/colab-badge.svg\" alt=\"Open In Colab\"/></a>"
      ]
    },
    {
      "cell_type": "code",
      "execution_count": null,
      "metadata": {
        "colab": {
          "base_uri": "https://localhost:8080/"
        },
        "id": "sq1lVMnxn8cJ",
        "outputId": "9b8a5f4c-9158-483a-865d-560e1e3ad1cc"
      },
      "outputs": [
        {
          "output_type": "stream",
          "name": "stdout",
          "text": [
            "True\n",
            "True\n",
            "False\n",
            "False\n",
            "True\n"
          ]
        }
      ],
      "source": [
        "#Tipos boleanos\n",
        "print(100 == (50+50))\n",
        "print(100 >= (50+50))\n",
        "print(100 > (50+50))\n",
        "print(100 != (50+50))\n",
        "print(100 != 99)"
      ]
    },
    {
      "cell_type": "code",
      "source": [
        "#Se a idade for maior ou igual a 16, exiba: Pode tirar habilitação\n",
        "idade = int(input('Digite a idade:'))\n",
        "if(idade >= 16):\n",
        "  print('Pode tirar habilitação')\n",
        "else:\n",
        "    print('Não pode tirar habilitação')"
      ],
      "metadata": {
        "id": "1hhQb_-dpkje"
      },
      "execution_count": null,
      "outputs": []
    },
    {
      "cell_type": "code",
      "source": [
        "#Se for do sexo feminino \"F\", e tiver 55 anos ou mais, pode se aposentar\n",
        "#Se for do sexo masculino \"M\", só se aposenta com 60 anos ou mais\n",
        "sexo = \"M\"\n",
        "idade = 68\n",
        "if(sexo == \"F\" and idade >=55):\n",
        "  print('Pode se aposentar')\n",
        "elif(sexo == \"M\" and idade >=60):\n",
        "  print('Pode se aposentar')\n",
        "else:\n",
        "  print('Ainda não pode')"
      ],
      "metadata": {
        "colab": {
          "base_uri": "https://localhost:8080/"
        },
        "id": "aPa71WFkrM8j",
        "outputId": "13ab4db8-f295-4008-f1a4-ba25eb40133f"
      },
      "execution_count": null,
      "outputs": [
        {
          "output_type": "stream",
          "name": "stdout",
          "text": [
            "Pode se aposentar\n"
          ]
        }
      ]
    },
    {
      "cell_type": "code",
      "source": [
        "#versão 2\n",
        "#Se for do sexo feminino \"F\", e tiver 55 anos ou mais, pode se aposentar\n",
        "#Se for do sexo masculino \"M\", só se aposenta com 60 anos ou mais\n",
        "if((sexo =='F'and idade >=55) or (sexo == 'F' and idade >=60)):\n",
        "  print('Pode se aposentar')\n",
        "else:\n",
        "  print('Ainda não pode')"
      ],
      "metadata": {
        "colab": {
          "base_uri": "https://localhost:8080/"
        },
        "id": "lwARol19ti_9",
        "outputId": "3c50c837-4be3-4bc6-ae52-bc0a7ad89f69"
      },
      "execution_count": null,
      "outputs": [
        {
          "output_type": "stream",
          "name": "stdout",
          "text": [
            "Ainda não pode\n"
          ]
        }
      ]
    },
    {
      "cell_type": "code",
      "source": [
        "#versão 3\n",
        "sexo = input('coloque o sexo, m (masculino) ou f (feminino):')\n",
        "idade = int(input('coloque a idade:'))\n",
        "if (sexo == 'f' and idade >=55) or (sexo == 'm' and idade >=60):\n",
        "  print('Pode se aposentar')\n",
        "else:\n",
        "  print('Ainda não pode')"
      ],
      "metadata": {
        "colab": {
          "base_uri": "https://localhost:8080/"
        },
        "id": "Fa2nsdxjvByM",
        "outputId": "46d83258-df26-4659-d718-89eb8128c465"
      },
      "execution_count": null,
      "outputs": [
        {
          "output_type": "stream",
          "name": "stdout",
          "text": [
            "coloque o sexo, m (masculino) ou f (feminino):f\n",
            "coloque a idade:53\n",
            "Ainda não pode\n"
          ]
        }
      ]
    },
    {
      "cell_type": "code",
      "source": [
        "#listas de outros tipos\n",
        "alunos = ['Mariana', 'Luiz', 'Igor', 'Luciana']\n",
        "alunos"
      ],
      "metadata": {
        "colab": {
          "base_uri": "https://localhost:8080/"
        },
        "id": "gtA1eQiv-IvP",
        "outputId": "49f1be81-2e2d-4004-eaab-8b3c9563f77f"
      },
      "execution_count": null,
      "outputs": [
        {
          "output_type": "execute_result",
          "data": {
            "text/plain": [
              "['Mariana', 'Luiz', 'Igor', 'Luciana']"
            ]
          },
          "metadata": {},
          "execution_count": 44
        }
      ]
    }
  ]
}